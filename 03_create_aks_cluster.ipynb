{
 "cells": [
  {
   "cell_type": "markdown",
   "metadata": {},
   "source": [
    "# Create the AKS cluster\n",
    "\n",
    "In this notebook we'll setup the AKS cluster. To do so, we'll do the following:\n",
    "1. check that there is enough quota to provision our desired cluster\n",
    "2. provision the cluster using the `az cli`\n",
    "3. set up blobfuse on the nodes so the pods in our kubernetes cluster can access our blob storage container"
   ]
  },
  {
   "cell_type": "markdown",
   "metadata": {},
   "source": [
    "---"
   ]
  },
  {
   "cell_type": "markdown",
   "metadata": {},
   "source": [
    "### Import packages and load .env"
   ]
  },
  {
   "cell_type": "code",
   "execution_count": null,
   "metadata": {},
   "outputs": [],
   "source": [
    "from dotenv import set_key, get_key, find_dotenv, load_dotenv\n",
    "from pathlib import Path\n",
    "import subprocess\n",
    "import json\n",
    "import os\n",
    "import time"
   ]
  },
  {
   "cell_type": "code",
   "execution_count": null,
   "metadata": {},
   "outputs": [],
   "source": [
    "env_path = find_dotenv(raise_error_if_not_found=True)\n",
    "load_dotenv(env_path)"
   ]
  },
  {
   "cell_type": "markdown",
   "metadata": {},
   "source": [
    "### Provision AKS cluster and set up blobfuse"
   ]
  },
  {
   "cell_type": "markdown",
   "metadata": {},
   "source": [
    "Set how many nodes you want to provision."
   ]
  },
  {
   "cell_type": "code",
   "execution_count": null,
   "metadata": {},
   "outputs": [],
   "source": [
    "node_count = 3\n",
    "\n",
    "set_key(env_path, \"NODE_COUNT\", str(node_count))\n",
    "print(\"Done.\")"
   ]
  },
  {
   "cell_type": "markdown",
   "metadata": {},
   "source": [
    "Check that there are enough core of the \"Standard_NC6s_v3\". If not, check that there are enough core of the \"Standard_D2s_v3\". If not, raise exception. "
   ]
  },
  {
   "cell_type": "code",
   "execution_count": null,
   "metadata": {},
   "outputs": [],
   "source": [
    "vm_dict = {\n",
    "    \"NCSv3\": {\n",
    "        \"size\": \"Standard_NC6s_v3\",\n",
    "        \"cores\": 6\n",
    "    },\n",
    "    \"NC\": {\n",
    "        \"size\": \"Standard_NC6\",\n",
    "        \"cores\": 6\n",
    "    },\n",
    "    \"DSv3\": {\n",
    "        \"size\": \"Standard_D2s_v3\",\n",
    "        \"cores\": 2\n",
    "    }\n",
    "}\n",
    "\n",
    "node_count = int(get_key(env_path, \"NODE_COUNT\"))\n",
    "\n",
    "print(\"Checking quota for family size NCSv3...\")\n",
    "vm_family = \"NCSv3\"\n",
    "requested_cores = node_count * vm_dict[vm_family][\"cores\"]\n",
    "\n",
    "def check_quota(vm_family):\n",
    "    \"\"\"\n",
    "    returns quota object\n",
    "    \"\"\"\n",
    "    results = subprocess.run([\n",
    "        \"az\", \"vm\", \"list-usage\", \n",
    "        \"--location\", get_key(env_path, \"REGION\"), \n",
    "        \"--query\", \"[?contains(localName, '%s')].{max:limit, current:currentValue}\" % (vm_family)\n",
    "    ], stdout=subprocess.PIPE)\n",
    "    quota = json.loads(''.join(results.stdout.decode('utf-8')))\n",
    "    print(quota)\n",
    "    return int(quota[0]['max']) - int(quota[0]['current'])\n",
    "\n",
    "diff = check_quota(vm_family)\n",
    "if diff <= requested_cores:\n",
    "    print(\"Not enough cores of NCSv3 in region, asking for {} but have {}\".format(requested_cores, diff))\n",
    "    \n",
    "    print(\"Retrying with family size NC6...\")\n",
    "    vm_family = \"NC\"\n",
    "    requested_cores = node_count * vm_dict[vm_family][\"cores\"]\n",
    "    \n",
    "    diff = check_quota(vm_family)\n",
    "    if diff <= requested_cores:\n",
    "        print(\"Not enough cores of NC6 in region, asking for {} but have {}\".format(requested_cores, diff))\n",
    "    \n",
    "        print(\"Retrying with family size DSv3...\")\n",
    "        vm_family = \"DSv3\"\n",
    "        requested_cores = node_count * vm_dict[vm_family][\"cores\"]\n",
    "\n",
    "        diff = check_quota(vm_family)\n",
    "        if diff <= requested_cores:\n",
    "            print(\"Not enough cores of DSv3 in region, asking for {} but have {}\".format(requested_cores, diff))\n",
    "            raise Exception(\"Core Limit\", \"Note enough cores to satisfy request\")\n",
    "\n",
    "print(\"There are enough cores, you may continue...\") "
   ]
  },
  {
   "cell_type": "markdown",
   "metadata": {},
   "source": [
    "Create the aks cluster. This step may take a while... Please note that this step creates another resource group in your subscription containing the actual compute of the AKS cluster.\n",
    "\n",
    "*The `az aks create` command will generate service principal credentials (unless you explicitly specify it). So, if you have run this notebook before or have created an AKS cluster using the Azure CLI, you may need to clear service principal credentials stored to your machine's disk by running `rm ~/.azure/aksServicePrincipal.json`.*"
   ]
  },
  {
   "cell_type": "code",
   "execution_count": null,
   "metadata": {
    "scrolled": true,
    "tags": [
     "strip_out"
    ]
   },
   "outputs": [],
   "source": [
    "%%time\n",
    "!az aks create \\\n",
    "    --resource-group {get_key(env_path, \"RESOURCE_GROUP\")} \\\n",
    "    --name {get_key(env_path, \"AKS_CLUSTER\")} \\\n",
    "    --node-count {get_key(env_path, \"NODE_COUNT\")} \\\n",
    "    --node-vm-size {vm_dict[vm_family][\"size\"]} \\\n",
    "    --generate-ssh-keys"
   ]
  },
  {
   "cell_type": "markdown",
   "metadata": {},
   "source": [
    "Install Kubectl - this tool is used to manage the kubernetes cluster."
   ]
  },
  {
   "cell_type": "code",
   "execution_count": null,
   "metadata": {},
   "outputs": [],
   "source": [
    "!sudo az aks install-cli"
   ]
  },
  {
   "cell_type": "code",
   "execution_count": null,
   "metadata": {},
   "outputs": [],
   "source": [
    "!az aks get-credentials \\\n",
    "    --resource-group {get_key(env_path, 'RESOURCE_GROUP')}\\\n",
    "    --name {get_key(env_path, 'AKS_CLUSTER')}"
   ]
  },
  {
   "cell_type": "markdown",
   "metadata": {},
   "source": [
    "Check also that the nodes are up and ready using this command. You may choose to run this command in a new cell.\n",
    "```bash\n",
    "!kubectl get nodes\n",
    "```"
   ]
  },
  {
   "cell_type": "markdown",
   "metadata": {},
   "source": [
    "### Blobfuse on AKS"
   ]
  },
  {
   "cell_type": "markdown",
   "metadata": {},
   "source": [
    "Now we setup our AKS cluster so that we have blob storage mounted onto the nodes using blobfuse. More info [here](https://github.com/Azure/kubernetes-volume-drivers/tree/master/flexvolume/blobfuse)."
   ]
  },
  {
   "cell_type": "markdown",
   "metadata": {},
   "source": [
    "Install blobfuse driver on every agent VM."
   ]
  },
  {
   "cell_type": "code",
   "execution_count": null,
   "metadata": {},
   "outputs": [],
   "source": [
    "!kubectl create -f https://raw.githubusercontent.com/ewyuanzhang/kubernetes-volume-drivers/master/flexvolume/blobfuse/deployment/blobfuse-flexvol-installer-1.9.yaml"
   ]
  },
  {
   "cell_type": "markdown",
   "metadata": {},
   "source": [
    "Check daemonset status."
   ]
  },
  {
   "cell_type": "code",
   "execution_count": null,
   "metadata": {
    "scrolled": true
   },
   "outputs": [],
   "source": [
    "!kubectl describe daemonset blobfuse-flexvol-installer --namespace=kube-system\n",
    "!kubectl get po --namespace=kube-system -o wide"
   ]
  },
  {
   "cell_type": "markdown",
   "metadata": {},
   "source": [
    "Set up credentials for blobfuse."
   ]
  },
  {
   "cell_type": "code",
   "execution_count": null,
   "metadata": {},
   "outputs": [],
   "source": [
    "!kubectl create secret generic blobfusecreds \\\n",
    "    --from-literal accountname={get_key(env_path, 'STORAGE_ACCOUNT_NAME')} \\\n",
    "    --from-literal accountkey={get_key(env_path, 'STORAGE_ACCOUNT_KEY')} \\\n",
    "    --type=\"azure/blobfuse\""
   ]
  },
  {
   "cell_type": "markdown",
   "metadata": {},
   "source": [
    "Set the mount directory on our AKS cluster as en dotenv variable."
   ]
  },
  {
   "cell_type": "code",
   "execution_count": null,
   "metadata": {},
   "outputs": [],
   "source": [
    "set_key(env_path, \"MOUNT_DIR\", \"/data\")\n",
    "print(\"Done.\")"
   ]
  },
  {
   "cell_type": "markdown",
   "metadata": {},
   "source": [
    "### Install nVidia drivers"
   ]
  },
  {
   "cell_type": "markdown",
   "metadata": {},
   "source": [
    "Before the GPUs in the nodes can be used, you must deploy a DaemonSet for the NVIDIA device plugin. This DaemonSet runs a pod on each node to provide the required drivers for the GPUs.\n",
    "\n",
    "First, create a namespace using the `kubectl create namespace` command:"
   ]
  },
  {
   "cell_type": "code",
   "execution_count": null,
   "metadata": {},
   "outputs": [],
   "source": [
    "!kubectl create namespace gpu-resources"
   ]
  },
  {
   "cell_type": "markdown",
   "metadata": {},
   "source": [
    "Now use the `kubectl apply` command to create the DaemonSet and confirm the nVidia device plugin is created successfully, as shown in the following example output:"
   ]
  },
  {
   "cell_type": "code",
   "execution_count": null,
   "metadata": {},
   "outputs": [],
   "source": [
    "!kubectl apply -f nvidia-device-plugin-ds.yaml"
   ]
  },
  {
   "cell_type": "markdown",
   "metadata": {},
   "source": [
    "### Confirm that GPUs are schedulable"
   ]
  },
  {
   "cell_type": "markdown",
   "metadata": {},
   "source": [
    "With your AKS cluster created, confirm that GPUs are schedulable in Kubernetes. First, list the nodes in your cluster using the `kubectl get nodes` command:"
   ]
  },
  {
   "cell_type": "code",
   "execution_count": null,
   "metadata": {},
   "outputs": [],
   "source": [
    "!kubectl get nodes"
   ]
  },
  {
   "cell_type": "markdown",
   "metadata": {},
   "source": [
    "Now use the `kubectl describe node <node_name>` command to confirm that the GPUs are schedulable. Under the `Capacity` section, the GPU should list as `nvidia.com/gpu: 1`."
   ]
  },
  {
   "cell_type": "code",
   "execution_count": null,
   "metadata": {},
   "outputs": [],
   "source": []
  },
  {
   "cell_type": "markdown",
   "metadata": {},
   "source": [
    "---"
   ]
  },
  {
   "cell_type": "markdown",
   "metadata": {},
   "source": [
    "Continue to the next [notebook](./04_vehicle_detection_on_aks.ipynb)."
   ]
  }
 ],
 "metadata": {
  "kernelspec": {
   "display_name": "Python [default]",
   "language": "python",
   "name": "python3"
  },
  "language_info": {
   "codemirror_mode": {
    "name": "ipython",
    "version": 3
   },
   "file_extension": ".py",
   "mimetype": "text/x-python",
   "name": "python",
   "nbconvert_exporter": "python",
   "pygments_lexer": "ipython3",
   "version": "3.6.7"
  }
 },
 "nbformat": 4,
 "nbformat_minor": 2
}
